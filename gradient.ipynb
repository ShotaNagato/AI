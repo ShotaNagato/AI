{
 "cells": [
  {
   "cell_type": "code",
   "execution_count": 2,
   "metadata": {},
   "outputs": [
    {
     "name": "stdout",
     "output_type": "stream",
     "text": [
      "0 1.9999999999992246 0.8000000000000775\n",
      "1 1.5999999999999348 0.6400000000000841\n",
      "2 1.28000000000017 0.5120000000000671\n",
      "3 1.0239999999997473 0.40960000000009233\n",
      "4 0.8192000000001309 0.32768000000007924\n",
      "5 0.6553600000000492 0.2621440000000743\n",
      "6 0.5242880000000394 0.20971520000007038\n",
      "7 0.41943040000009396 0.16777216000006098\n",
      "8 0.33554432000008555 0.13421772800005244\n",
      "9 0.26843545600006496 0.10737418240004594\n",
      "10 0.21474836480009882 0.08589934592003606\n",
      "11 0.17179869184007732 0.06871947673602832\n",
      "12 0.13743895347205753 0.05497558138882257\n",
      "13 0.10995116277764731 0.04398046511105783\n",
      "14 0.08796093022211829 0.035184372088846005\n",
      "15 0.07036874417769398 0.028147497671076608\n",
      "16 0.056294995342152584 0.02251799813686135\n",
      "17 0.04503599627372271 0.018014398509489077\n",
      "18 0.036028797018977904 0.014411518807591287\n",
      "19 0.02882303761518235 0.011529215046073052\n",
      "20 0.023058430092145987 0.009223372036858454\n",
      "21 0.01844674407371682 0.007378697629486773\n",
      "22 0.014757395258973563 0.005902958103589416\n",
      "23 0.011805916207178857 0.0047223664828715305\n",
      "24 0.009444732965743092 0.003777893186297221\n",
      "25 0.007555786372594431 0.003022314549037778\n",
      "26 0.0060446290980755435 0.0024178516392302234\n",
      "27 0.00483570327846044 0.0019342813113841794\n",
      "28 0.0038685626227683598 0.0015474250491073435\n",
      "29 0.0030948500982146895 0.0012379400392858746\n",
      "30 0.002475880078571751 0.0009903520314286994\n",
      "31 0.0019807040628573996 0.0007922816251429595\n",
      "32 0.0015845632502859198 0.0006338253001143675\n",
      "33 0.0012676506002287356 0.0005070602400914939\n",
      "34 0.001014120480182988 0.0004056481920731951\n",
      "35 0.0008112963841463903 0.00032451855365855605\n",
      "関数が最小になるxは0.00032451855365855605\n"
     ]
    },
    {
     "data": {
      "image/png": "[encoded data removed]",
      "text/plain": [
       "<Figure size 432x288 with 1 Axes>"
      ]
     },
     "metadata": {
      "needs_background": "light"
     },
     "output_type": "display_data"
    }
   ],
   "source": [
    "# 勾配法で関数の最小の点を見つける\n",
    "import numpy as np\n",
    "from matplotlib import pyplot as plt\n",
    "\n",
    "#最小値を求めたい関数\n",
    "def targetFunction(x):\n",
    "    return x**2\n",
    "\n",
    "# 微分もどき\n",
    "def differential(func,x): # 現在地:x\n",
    "    micro_width = 0.0001 # 微小な横幅\n",
    "    # 差分をとって割り算し結果を返す\n",
    "    return (func(x+micro_width) - func(x-micro_width)) / (2 * micro_width)\n",
    "\n",
    "def gradient(func, start_x, learning_rate, max_roop=100, tilt=0.001):\n",
    "    \"\"\"\n",
    "    関数:func\n",
    "    出発地点のx:start_x\n",
    "    学習率:learning_rate\n",
    "    最大繰り返し数:max_roop 100\n",
    "    収束条件の傾き:tilt 0.001\n",
    "    \"\"\"\n",
    "    # 繰り返し数の配列\n",
    "    roop_array = np.empty(0)\n",
    "    # 傾きの配列\n",
    "    tilt_array = np.empty(0)\n",
    "    x = start_x\n",
    "    for i in range(max_roop):\n",
    "        roop_array = np.append(roop_array,i)\n",
    "        # 今いる場所(x)での傾き\n",
    "        tilt_tangent = differential(func, x)\n",
    "        tilt_array = np.append(tilt_array,tilt_tangent)\n",
    "        # 傾きに基づいてxを移動\n",
    "        x = x - learning_rate * tilt_tangent\n",
    "        print(str(i) + \" \",end=\"\")\n",
    "        print(tilt_tangent, end=\"\")\n",
    "        print(\" \",end=\"\")\n",
    "        print(x)\n",
    "        if abs(tilt_tangent) < tilt:\n",
    "            break\n",
    "    plt.plot(roop_array,tilt_array)\n",
    "    return x\n",
    "\n",
    "min_x = gradient(targetFunction,1,0.1) #出発点が1, 学習率が0.1\n",
    "print(\"関数が最小になるxは\",end=\"\")\n",
    "print(min_x)\n",
    "\n",
    "\n",
    "\n"
   ]
  },
  {
   "cell_type": "code",
   "execution_count": null,
   "metadata": {},
   "outputs": [],
   "source": []
  },
  {
   "cell_type": "code",
   "execution_count": null,
   "metadata": {},
   "outputs": [],
   "source": []
  }
 ],
 "metadata": {
  "interpreter": {
   "hash": "d59ed442bba6f9eb1f03937c4bad0235a7a08374321eec3388916a2cdcc46e12"
  },
  "kernelspec": {
   "display_name": "Python 3.8.5 ('base')",
   "language": "python",
   "name": "python3"
  },
  "language_info": {
   "codemirror_mode": {
    "name": "ipython",
    "version": 3
   },
   "file_extension": ".py",
   "mimetype": "text/x-python",
   "name": "python",
   "nbconvert_exporter": "python",
   "pygments_lexer": "ipython3",
   "version": "3.8.5"
  },
  "orig_nbformat": 4
 },
 "nbformat": 4,
 "nbformat_minor": 2
}
