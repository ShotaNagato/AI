{
 "cells": [
  {
   "cell_type": "code",
   "execution_count": 1,
   "metadata": {},
   "outputs": [
    {
     "name": "stderr",
     "output_type": "stream",
     "text": [
      "Duplicate key in file PosixPath('/Users/nagatoshota/opt/anaconda3/lib/python3.8/site-packages/matplotlib/mpl-data/matplotlibrc'), line 250 ('font.family:   IPAexGothic')\n"
     ]
    },
    {
     "name": "stdout",
     "output_type": "stream",
     "text": [
      "41088 回繰り返しました\n",
      "勾配法で得られた、損失関数を最小にするaとbは\n",
      "8.477403460299513\n",
      "145.09863070323775\n",
      "最終的な平均二乗誤差\n",
      "344.72719664673\n"
     ]
    },
    {
     "data": {
      "image/png": "[encoded data removed]",
      "text/plain": [
       "<Figure size 576x432 with 1 Axes>"
      ]
     },
     "metadata": {
      "needs_background": "light"
     },
     "output_type": "display_data"
    }
   ],
   "source": [
    "from matplotlib import pyplot as plt\n",
    "import numpy as np\n",
    "\n",
    "# UMAの年齢と身長\n",
    "age = np.array([6,8,9,7,9,10,10,12,13,15,16,14,13,16,19,18,22,21,25,23])\n",
    "height = np.array([164.61,187.25,204.30,204.88,229.48,231.99,236.59,240.36,263.98,264.79,281.85,288.38,298.75,306.34,307.48,312.44,317.72,319.41,323.96,341.96])\n",
    "\n",
    "# 最小化したい損失関数は、平均二乗誤差として定義\n",
    "def lossFunction(para_vec):\n",
    "    para_a = para_vec[0]\n",
    "    para_b = para_vec[1]\n",
    "\n",
    "    # 誤差を2乗しmeanでその平均を求めて返す\n",
    "    return np.mean((para_a * age + para_b - height)**2)\n",
    "\n",
    "# 偏微分もどき\n",
    "def partialDefferential(func, vec): # 全ての変数について偏微分した結果を傾きベクトルにする\n",
    "    \"\"\"\n",
    "    func: 関数\n",
    "    vec: 現在地のベクトル\n",
    "    \"\"\"\n",
    "    vec_tilt = np.empty_like(vec) # 空の傾きベクトルを生成する\n",
    "\n",
    "    for i in range(len(vec)):\n",
    "        vec_tilt[i] = partialDefferentialHelper(func, vec, i)\n",
    "\n",
    "    return vec_tilt # 確定した傾きベクトルを返す\n",
    "\n",
    "def partialDefferentialHelper(func, vec, i):\n",
    "    # 微小な横幅\n",
    "    micro_width = 0.0001\n",
    "    # 差分計算ベクトル\n",
    "    vec_calc_difference = np.zeros_like(vec)\n",
    "    vec_calc_difference[i] = micro_width\n",
    "    # 微小な横幅を使って引き算と割り算を行い、傾きを求めて返す\n",
    "    return (func(vec + vec_calc_difference) - func(vec - vec_calc_difference)) / (2*micro_width)\n",
    "\n",
    "def gradient(func, vec_start, learning_rate=0.001, max_roop=100000):\n",
    "    vec = vec_start\n",
    "    # 収束条件の傾き\n",
    "    tilt = 0.001\n",
    "\n",
    "    for i in range(max_roop):\n",
    "        # 現在地での傾きを求める\n",
    "        vec_tilt = partialDefferential(func, vec)\n",
    "        # 勾配を基にして現在地を変更\n",
    "        vec = vec - learning_rate * vec_tilt\n",
    "\n",
    "        # 収束条件の傾きをどちらも下回ったらループ終了、ただしiが0の時は傾きベクトルが[0,0]なので終了しない\n",
    "        if abs(vec_tilt[0]) < tilt and abs(vec_tilt[1]) < tilt and i > 0:\n",
    "            break\n",
    "\n",
    "    # 最終的な位置を返す\n",
    "    print(str(i)+\" 回繰り返しました\")    \n",
    "    return vec\n",
    "\n",
    "\n",
    "\n",
    "\n",
    "# 勾配法で関数の最小値を探す (初期値は 5,5)\n",
    "min = gradient(lossFunction, [5, 5])\n",
    "print(\"勾配法で得られた、損失関数を最小にするaとbは\")\n",
    "print(min[0])\n",
    "print(min[1])\n",
    "print(\"最終的な平均二乗誤差\")\n",
    "print(lossFunction(min))\n",
    "\n",
    "########################## 仕上げに散布図を描き、回帰直線も表示\n",
    "plt.figure(figsize = (8, 6))\n",
    "plt.title(\"Age and Height\")\n",
    "plt.xlim([0, 30])\n",
    "plt.ylim([0, 350])\n",
    "plt.xlabel(\"age\")\n",
    "plt.ylabel(\"height (cm)\")\n",
    "plt.scatter(age,height,color=\"k\") # 散布図\n",
    "# 直線を重ねる\n",
    "############ この下の3行のコメントを外しましょう ############\n",
    "x2 = np.linspace(0,30,10) # X軸方向の等間隔の配列\n",
    "y2 = min[0]*x2+min[1] # Y軸方向の値も配列にする(ax+b の値)\n",
    "plt.plot(x2,y2,color=\"r\")\n",
    "plt.show()"
   ]
  },
  {
   "cell_type": "code",
   "execution_count": null,
   "metadata": {},
   "outputs": [],
   "source": []
  }
 ],
 "metadata": {
  "interpreter": {
   "hash": "d59ed442bba6f9eb1f03937c4bad0235a7a08374321eec3388916a2cdcc46e12"
  },
  "kernelspec": {
   "display_name": "Python 3.8.5 ('base')",
   "language": "python",
   "name": "python3"
  },
  "language_info": {
   "codemirror_mode": {
    "name": "ipython",
    "version": 3
   },
   "file_extension": ".py",
   "mimetype": "text/x-python",
   "name": "python",
   "nbconvert_exporter": "python",
   "pygments_lexer": "ipython3",
   "version": "3.8.5"
  },
  "orig_nbformat": 4
 },
 "nbformat": 4,
 "nbformat_minor": 2
}
